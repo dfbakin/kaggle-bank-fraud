{
 "cells": [
  {
   "cell_type": "code",
   "execution_count": 1,
   "id": "f57dd0c5",
   "metadata": {},
   "outputs": [],
   "source": [
    "%load_ext autoreload\n",
    "%autoreload 2"
   ]
  },
  {
   "cell_type": "code",
   "execution_count": 2,
   "id": "bb4fa313",
   "metadata": {},
   "outputs": [
    {
     "name": "stdout",
     "output_type": "stream",
     "text": [
      "(629144, 17) (629144,)\n",
      "Index(['transaction_time', 'merch', 'cat_id', 'amount', 'name_1', 'name_2',\n",
      "       'gender', 'street', 'one_city', 'us_state', 'post_code', 'lat', 'lon',\n",
      "       'population_city', 'jobs', 'merchant_lat', 'merchant_lon'],\n",
      "      dtype='object')\n",
      "        transaction_time                               merch          cat_id  \\\n",
      "142970  2019-12-23 15:18                   fraud_Block Group        misc_pos   \n",
      "3810    2019-10-19 15:03                  fraud_Hirthe-Beier  health_fitness   \n",
      "491835  2019-08-12 19:55      fraud_Hauck, Dietrich and Funk       kids_pets   \n",
      "293147  2019-07-16 22:18                    fraud_Herman Inc        misc_pos   \n",
      "175453  2019-10-06 12:55  fraud_Streich, Dietrich and Barton    shopping_net   \n",
      "\n",
      "        amount   name_1   name_2 gender                       street  \\\n",
      "142970    2.97    David   Miller      M   622 Bradley Knoll Apt. 758   \n",
      "3810     76.03  William  Jenkins      M            50614 Kevin Point   \n",
      "491835   81.58   Justin   Fowler      M  5569 Phillips Neck Apt. 003   \n",
      "293147   30.26   Robert     Hall      M  371 Anthony Trail Suite 354   \n",
      "175453    4.67   Nathan  Mendoza      M       767 Adam Mill Apt. 115   \n",
      "\n",
      "            one_city us_state  post_code      lat       lon  population_city  \\\n",
      "142970       Hancock       MD      21750  39.6991  -78.1762             3766   \n",
      "3810          Harper       TX      78631  30.2816  -99.2410             2395   \n",
      "491835   Coffeeville       MS      38922  33.9215  -89.6782             3451   \n",
      "293147  Glade Spring       VA      24340  36.7779  -81.7676             5657   \n",
      "175453      Espanola       NM      87533  35.9866 -106.0654            18408   \n",
      "\n",
      "                                                     jobs  merchant_lat  \\\n",
      "142970                                 Press photographer     40.402756   \n",
      "3810                                Pharmacist, community     29.746589   \n",
      "491835                                   Financial trader     33.936626   \n",
      "293147                              Clinical psychologist     36.056786   \n",
      "175453  Historic buildings inspector/conservation officer     36.454540   \n",
      "\n",
      "        merchant_lon  \n",
      "142970    -78.078632  \n",
      "3810      -99.965943  \n",
      "491835    -90.464501  \n",
      "293147    -81.035507  \n",
      "175453   -106.521703  \n"
     ]
    }
   ],
   "source": [
    "from pandas import read_csv\n",
    "from sklearn.model_selection import train_test_split\n",
    "\n",
    "train_df = read_csv(\"data/train.csv\")\n",
    "\n",
    "y_train_df = train_df[\"target\"]\n",
    "X_train_df = train_df.drop(columns=[\"target\"])\n",
    "\n",
    "X_train, X_val, y_train, y_val = train_test_split(\n",
    "    X_train_df, y_train_df, test_size=0.2, random_state=42\n",
    ")\n",
    "\n",
    "print(X_train.shape, y_train.shape)\n",
    "print(X_train.columns)\n",
    "print(X_train.head())"
   ]
  },
  {
   "cell_type": "code",
   "execution_count": 3,
   "id": "720c8ffe",
   "metadata": {},
   "outputs": [],
   "source": [
    "# preprocess pipeline to standart scale, OHE categorical features and impute missing values\n",
    "\n",
    "from sklearn.compose import ColumnTransformer\n",
    "from sklearn.pipeline import Pipeline\n",
    "from sklearn.impute import SimpleImputer\n",
    "from sklearn.preprocessing import OneHotEncoder, StandardScaler\n",
    "import joblib\n",
    "\n",
    "numeric_features = X_train.select_dtypes(include=[\"int64\", \"float64\"]).columns.tolist()\n",
    "numerical_pipeline = Pipeline(steps=[\n",
    "            (\"imputer\", SimpleImputer(strategy=\"median\")),\n",
    "            (\"scaler\", StandardScaler())\n",
    "        ])\n",
    "\n",
    "categorical_features = X_train.select_dtypes(include=[\"object\"]).columns.tolist()\n",
    "categorical_pipeline = Pipeline(steps=[\n",
    "            (\"imputer\", SimpleImputer(strategy=\"most_frequent\")),\n",
    "            (\"onehot\", OneHotEncoder(handle_unknown=\"ignore\"))\n",
    "        ])\n",
    "\n",
    "\n",
    "preprocessor = ColumnTransformer(\n",
    "    transformers=[\n",
    "        (\"num\", numerical_pipeline, numeric_features),\n",
    "        (\"cat\", categorical_pipeline, categorical_features)\n",
    "    ]\n",
    ")\n",
    "\n",
    "X_train_processed = preprocessor.fit_transform(X_train)\n",
    "joblib.dump(preprocessor, \"models/preprocessor.pkl\")\n",
    "\n",
    "X_val_processed = preprocessor.transform(X_val)"
   ]
  },
  {
   "cell_type": "code",
   "execution_count": 4,
   "id": "6357bd30",
   "metadata": {},
   "outputs": [
    {
     "name": "stdout",
     "output_type": "stream",
     "text": [
      "0:\ttotal: 211ms\tremaining: 10.3s\n",
      "49:\ttotal: 9.39s\tremaining: 0us\n"
     ]
    },
    {
     "data": {
      "text/plain": [
       "<catboost.core.CatBoostClassifier at 0x7477911bdca0>"
      ]
     },
     "execution_count": 4,
     "metadata": {},
     "output_type": "execute_result"
    }
   ],
   "source": [
    "from catboost import CatBoostClassifier\n",
    "\n",
    "model = CatBoostClassifier(\n",
    "    iterations=50,\n",
    "    learning_rate=0.05,\n",
    "    depth=6,\n",
    "    eval_metric=\"AUC\",\n",
    "    random_seed=42,\n",
    "    verbose=100\n",
    ")\n",
    "\n",
    "model.fit(X_train_processed, y_train)"
   ]
  },
  {
   "cell_type": "code",
   "execution_count": null,
   "id": "d79d91f6",
   "metadata": {},
   "outputs": [
    {
     "name": "stdout",
     "output_type": "stream",
     "text": [
      "0.002956379103168094\n",
      "Accuracy: 0.9963124733766936\n",
      "ROC AUC: 0.9393041044758532\n"
     ]
    }
   ],
   "source": [
    "from sklearn.metrics import accuracy_score, roc_auc_score\n",
    "import numpy as np\n",
    "\n",
    "predictions = np.argmax(model.predict_proba(X_val_processed), axis=1)\n",
    "accuracy = accuracy_score(y_val, predictions)\n",
    "roc_auc = roc_auc_score(y_val, model.predict_proba(X_val_processed)[:, 1])\n",
    "\n",
    "print(f\"Accuracy: {accuracy}\")\n",
    "print(f\"ROC AUC: {roc_auc}\")"
   ]
  },
  {
   "cell_type": "code",
   "execution_count": 6,
   "id": "f5327893",
   "metadata": {},
   "outputs": [],
   "source": [
    "model.save_model(\"models/catboost_model.cbm\")"
   ]
  },
  {
   "cell_type": "code",
   "execution_count": null,
   "id": "bff7fb42",
   "metadata": {},
   "outputs": [],
   "source": [
    "X_test = read_csv(\"data/test.csv\")\n",
    "X_test_processed = preprocessor.transform(X_test)\n",
    "test_predictions = np.argmax(model.predict_proba(X_test_processed), axis=1)\n",
    "\n",
    "submission_df = read_csv(\"data/sample_submission.csv\")\n",
    "submission_df[\"prediction\"] = test_predictions\n",
    "submission_df.to_csv(\"data/submission.csv\", index=False)"
   ]
  }
 ],
 "metadata": {
  "kernelspec": {
   "display_name": "Python 3 (ipykernel)",
   "language": "python",
   "name": "python3"
  },
  "language_info": {
   "codemirror_mode": {
    "name": "ipython",
    "version": 3
   },
   "file_extension": ".py",
   "mimetype": "text/x-python",
   "name": "python",
   "nbconvert_exporter": "python",
   "pygments_lexer": "ipython3",
   "version": "3.12.3"
  }
 },
 "nbformat": 4,
 "nbformat_minor": 5
}
